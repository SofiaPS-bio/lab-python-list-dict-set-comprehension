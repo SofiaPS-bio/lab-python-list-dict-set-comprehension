{
 "cells": [
  {
   "cell_type": "markdown",
   "id": "25d7736c-ba17-4aff-b6bb-66eba20fbf4e",
   "metadata": {},
   "source": [
    "# Lab | List, Dict and Set Comprehension"
   ]
  },
  {
   "cell_type": "markdown",
   "id": "7dd3cbde-675a-4b81-92c3-f728846dbe06",
   "metadata": {},
   "source": [
    "## Exercise: Managing Customer Orders Optimized with Comprehension"
   ]
  },
  {
   "cell_type": "markdown",
   "id": "5d500160-2fb7-4777-b5e4-09d45ebaf328",
   "metadata": {},
   "source": [
    "In the previous exercise, you developed a program to manage customer orders and inventory. Now, let's take it a step further and incorporate comprehension into your code.\n",
    "\n",
    "Follow the steps below to complete the exercise:\n",
    "\n",
    "1. Review your code from the previous exercise and identify areas where you can apply comprehension to simplify and streamline your code. \n",
    "\n",
    "    - *Hint: Apply it to initialize inventory, updating the inventory and printing the updated inventory.*\n",
    "    \n",
    "    - For example, in initializing the inventory, we could have:\n",
    "    \n",
    "        ```python\n",
    "        def initialize_inventory(products):\n",
    "            inventory = {product: int(input(f\"Enter the quantity of {product}s available: \")) for product in products}\n",
    "            return inventory\n",
    "\n",
    "        ```\n",
    "<br>\n",
    "    \n",
    "    \n",
    "2. Modify the function get_customer_orders so it prompts the user to enter the number of customer orders and gathers the product names using a loop and user input. Use comprehension.\n",
    "\n",
    "3. Add a new function to calculate the total price of the customer order. For each product in customer_orders, prompt the user to enter the price of that product. Use comprehension to calculate the total price. Note: assume that the user can only have 1 unit of each product.\n",
    "\n",
    "4. Modify the update_inventory function to remove the product from the inventory if its quantity becomes zero after fulfilling the customer orders. Use comprehension to filter out the products with a quantity of zero from the inventory.\n",
    "\n",
    "5. Print the total price of the customer order.\n",
    "\n",
    "Your code should produce output similar to the following:\n",
    "\n",
    "```python\n",
    "Enter the quantity of t-shirts available:  5\n",
    "Enter the quantity of mugs available:  4\n",
    "Enter the quantity of hats available:  3\n",
    "Enter the quantity of books available:  2\n",
    "Enter the quantity of keychains available:  1\n",
    "Enter the number of customer orders:  2\n",
    "Enter the name of a product that a customer wants to order:  hat\n",
    "Enter the name of a product that a customer wants to order:  keychain\n",
    "\n",
    "Order Statistics:\n",
    "Total Products Ordered: 2\n",
    "Percentage of Unique Products Ordered: 40.0\n",
    "\n",
    "Updated Inventory:\n",
    "t-shirt: 5\n",
    "mug: 4\n",
    "hat: 2\n",
    "book: 2\n",
    "Enter the price of keychain:  5\n",
    "Enter the price of hat:  10\n",
    "Total Price: 15.0\n",
    "\n",
    "```\n"
   ]
  },
  {
   "cell_type": "code",
   "execution_count": 71,
   "id": "75d18a67",
   "metadata": {},
   "outputs": [
    {
     "name": "stdout",
     "output_type": "stream",
     "text": [
      "{'t-shirt': 1, 'mug': 2, 'hat': 3, 'book': 4, 'keychain': 5}\n"
     ]
    }
   ],
   "source": [
    "products = [\"t-shirt\", \"mug\", \"hat\", \"book\", \"keychain\"]\n",
    "\n",
    "def initialize_inventory(products):\n",
    "    \"\"\" Prompt the user to enter the inventory count for each product and store it in the inventory dictionary.\"\"\"\n",
    "    inventory = {product: int(input(f\"Enter the quantity of {product}s available: \")) for product in products}\n",
    "    return inventory\n",
    "\n",
    "inventory = initialize_inventory(products)\n",
    "print(inventory)\n"
   ]
  },
  {
   "cell_type": "code",
   "execution_count": 72,
   "id": "50b05b4e",
   "metadata": {},
   "outputs": [
    {
     "name": "stdout",
     "output_type": "stream",
     "text": [
      "{'t-shirt': 1, 'mug': 2, 'hat': 3, 'book': 4, 'keychain': 5}\n"
     ]
    }
   ],
   "source": [
    "print(inventory)\n"
   ]
  },
  {
   "cell_type": "code",
   "execution_count": 73,
   "id": "79f770c5",
   "metadata": {},
   "outputs": [],
   "source": [
    "def get_customer_orders():\n",
    "    customer_orders = set() #to set up an empty set, could also be {}, but it gave me an error\n",
    "\n",
    "    num_customer_order = int(input(\"Enter the number of custumer order: \"))\n",
    "\n",
    "    {customer_orders.add(input(\"Enter the name of a product that a customer wants to order: \")) for num in range(num_customer_order)}\n",
    "    \n",
    "    return customer_orders\n",
    "\n",
    "customer_orders = get_customer_orders()\n",
    "\n",
    "#print(inventory)"
   ]
  },
  {
   "cell_type": "code",
   "execution_count": 74,
   "id": "50d75fec",
   "metadata": {},
   "outputs": [
    {
     "name": "stdout",
     "output_type": "stream",
     "text": [
      "{'hat', 'mug'}\n"
     ]
    }
   ],
   "source": [
    "print(customer_orders)"
   ]
  },
  {
   "cell_type": "code",
   "execution_count": 75,
   "id": "0c426b28",
   "metadata": {},
   "outputs": [
    {
     "name": "stdout",
     "output_type": "stream",
     "text": [
      "{'t-shirt': 1, 'mug': 1, 'hat': 2, 'book': 4, 'keychain': 5}\n"
     ]
    }
   ],
   "source": [
    "def update_inventory(inventory, customer_orders):\n",
    "    for product in customer_orders:\n",
    "        if product in inventory and inventory[product] > 0:\n",
    "            inventory[product] -= 1\n",
    "\n",
    "    inventory = {inventory.pop(item) for item in inventory if inventory[item] == 0} #why this doesn't work???\n",
    "    return inventory\n",
    "\n",
    "update_inventory(inventory, customer_orders)\n",
    "\n",
    "print (inventory)\n",
    "\n",
    "#or this:\n",
    "#inventory = [inventory[product] -= 1 for product in customer_orders if product in inventory and inventory[product] > 0]"
   ]
  },
  {
   "cell_type": "code",
   "execution_count": 76,
   "id": "e6e7e3e2",
   "metadata": {},
   "outputs": [],
   "source": [
    "def total_price_order(customer_orders):\n",
    "    price_in_order = {order : int(input(f\"Enter the price for {order}: \")) for order in customer_orders}\n",
    "    total_price = sum(price_in_order.values())\n",
    "    return total_price"
   ]
  },
  {
   "cell_type": "code",
   "execution_count": 77,
   "id": "6cd1e741",
   "metadata": {},
   "outputs": [],
   "source": [
    "def calculate_order_statistics(customer_orders, products):\n",
    "    total_products_ordered = len(customer_orders)\n",
    "    total_in_house = sum(inventory.values())\n",
    "    percentage_ordered = (len(customer_orders) / len(products)) * 100\n",
    "    order_statistics = (total_products_ordered, percentage_ordered)\n",
    "    return total_products_ordered, total_in_house, percentage_ordered, order_statistics\n",
    "\n",
    "total_products_ordered, total_in_house, percentage_ordered, order_statistics = calculate_order_statistics(customer_orders, products)"
   ]
  },
  {
   "cell_type": "code",
   "execution_count": 78,
   "id": "58e5b7bf",
   "metadata": {},
   "outputs": [
    {
     "name": "stdout",
     "output_type": "stream",
     "text": [
      "\n",
      "        Order Statistics:\n",
      "        Total Products Ordered: 2\n",
      "        Percentage of Products Ordered: 40.0%\n",
      "        Total price of the order: 25\n",
      "        \n"
     ]
    }
   ],
   "source": [
    "def print_order_statistics(order_statistics):\n",
    "    #order_statistics = total_products_ordered, percentage_ordered\n",
    "    print(f\"\"\"\n",
    "        Order Statistics:\n",
    "        Total Products Ordered: {total_products_ordered}\n",
    "        Percentage of Products Ordered: {percentage_ordered}%\n",
    "        Total price of the order: {total_price_order(customer_orders)}\n",
    "        \"\"\")\n",
    "    \n",
    "print_order_statistics(order_statistics)"
   ]
  },
  {
   "cell_type": "code",
   "execution_count": 79,
   "id": "2a8737b5",
   "metadata": {},
   "outputs": [
    {
     "name": "stdout",
     "output_type": "stream",
     "text": [
      "Updated Inventory:\n",
      "['t-shirt : 1', 'mug : 1', 'hat : 2', 'book : 4', 'keychain : 5']\n"
     ]
    }
   ],
   "source": [
    "def print_updated_inventory(inventory: dict):\n",
    "    # print(f\"\"\"Updated Inventory:\n",
    "    #     t-shirt: {inventory['t-shirt']}\n",
    "    #     mug: {inventory['mug']}\n",
    "    #     hat: {inventory['hat']}\n",
    "    #     book: {inventory['book']}\n",
    "    #     keychain: {inventory['keychain']}\n",
    "    #     \"\"\")\n",
    "    print(\"Updated Inventory:\")\n",
    "    print([f\"{product} : {quantity}\" for product, quantity in inventory.items()]) #how to print it????\n",
    "    \n",
    "print_updated_inventory(inventory)"
   ]
  }
 ],
 "metadata": {
  "kernelspec": {
   "display_name": "base",
   "language": "python",
   "name": "python3"
  },
  "language_info": {
   "codemirror_mode": {
    "name": "ipython",
    "version": 3
   },
   "file_extension": ".py",
   "mimetype": "text/x-python",
   "name": "python",
   "nbconvert_exporter": "python",
   "pygments_lexer": "ipython3",
   "version": "3.13.5"
  }
 },
 "nbformat": 4,
 "nbformat_minor": 5
}
